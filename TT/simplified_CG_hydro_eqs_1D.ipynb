{
 "cells": [
  {
   "cell_type": "markdown",
   "metadata": {},
   "source": [
    "# Phenomenological hydrodynamic equations with constant coeffcients in 1D\n",
    "\n",
    "The density fields $\\rho$ and momentum fields $\\mathbf{m}$ are evolved according to\n",
    "$$\n",
    "\\begin{align*}\n",
    "\\partial_t \\rho &= -v_0 \\nabla \\cdot \\mathbf{m}, \\\\\n",
    "\\partial_t \\mathbf{m} + \\xi (\\mathbf{m} \\cdot \\nabla) \\mathbf{m} &= D\\nabla^2 \\mathbf{m} - \\lambda \\nabla \\rho + a_2 \\mathbf{m} - a_4 |\\mathbf{m}|^2 \\mathbf{m},\n",
    "\\end{align*}\n",
    "$$\n",
    "where the transport coeffcients $v_0$, $\\xi$, $D$, $\\lambda$ and $a_4$ are constant, while keepging an explicit density dependence in $a_2:\\ a_2(\\rho)=\\rho-\\phi_g$, where $\\phi_g$ is the gas spinodal, smaller than the liquid spinodal $\\phi_l=\\phi_g+\\frac{1}{4a_4 v_0 + 2\\lambda}$. \n",
    "Introducing $\\mathbf{m} = (m_x, m_y)$, the equations become\n",
    "$$\n",
    "\\begin{align*}\n",
    "\\partial_t \\rho &= -v_0 (\\partial_x m_x + \\partial_y m_y),\\\\\n",
    "\\partial_t m_x + \\xi (m_x \\partial_x + m_y \\partial_y) m_x & = D(\\partial_x^2+\\partial_y^2) m_x - \\lambda \\partial_x \\rho + a_2 m_x - a_4 m^2 m_x,\\\\\n",
    "\\partial_t m_y + \\xi (m_x \\partial_x + m_y \\partial_y) m_y & = D(\\partial_x^2+\\partial_y^2) m_y - \\lambda \\partial_y \\rho + a_2 m_y - a_4 m^2 m_y,\n",
    "\\end{align*}\n",
    "$$\n",
    "where $m^2=|\\mathbf{m}|^2=m_x^2+m_y^2$. In 1D, the equations can be simplifed as\n",
    "$$\n",
    "\\begin{align*}\n",
    "\\partial_t \\rho &= -v_0 \\partial_x m, \\\\\n",
    "\\partial_t m + \\xi m \\partial_x m &= D\\partial_x^2 m - \\lambda \\partial_x \\rho + a_2 m - a_4 m^3,\n",
    "\\end{align*}\n",
    "$$\n",
    "where $m\\equiv m_x$."
   ]
  },
  {
   "cell_type": "markdown",
   "metadata": {},
   "source": [
    "In Fourier space, we have \n",
    "$$\n",
    "\\begin{align*}\n",
    "\\partial_t \\tilde{\\rho} &= -iv_0 k \\tilde{m}, \\\\\n",
    "\\partial_t \\tilde{m} &= -\\xi \\left(\n",
    "    \\frac{i k}{2} \\widetilde{m^2}\n",
    "    \\right) - k^2 D \\tilde{m} - ik\\lambda \\tilde{\\rho} + \\widetilde{\\rho m} - \\phi_g\\tilde{m} - a_4 \\widetilde{m^3},\n",
    "\\end{align*}\n",
    "$$\n",
    "where $k\\equiv k_x$."
   ]
  },
  {
   "cell_type": "code",
   "execution_count": 6,
   "metadata": {},
   "outputs": [],
   "source": [
    "import numpy as np\n",
    "from coord import get_freq_1D\n",
    "from fields import show_fields_1D, ini_fields_1D, dump_fields_1D\n",
    "\n",
    "def eval_time_derivative_1D(rho, rho_hat, mx, mx_hat, kx, k2, v0, xi, D, lambdaa, phi_g, a4):\n",
    "    mx2 = mx ** 2\n",
    "    mx2_hat = np.fft.rfft(mx2)\n",
    "    rho_mx_hat = np.fft.rfft(rho * mx)\n",
    "    m3_hat = np.fft.rfft(mx2 * mx)\n",
    "\n",
    "    f_rho = -1j * v0 * (kx * mx_hat)\n",
    "    f_mx = -xi * 0.5j * kx * mx2_hat - (k2 * D + phi_g) * mx_hat - 1j * kx * lambdaa * rho_hat + rho_mx_hat - a4 * m3_hat\n",
    "    return f_rho, f_mx\n",
    "\n",
    "\n",
    "def exEulerFS_1D(rho_hat, mx_hat, kx, k2, v0, xi, D, lambdaa, phi_g, a4, dt):\n",
    "    rho = np.fft.irfft(rho_hat)\n",
    "    mx = np.fft.irfft(mx_hat)\n",
    "\n",
    "    f_rho, f_mx = eval_time_derivative_1D(rho, rho_hat, mx, mx_hat, kx, k2, v0, xi, D, lambdaa, phi_g, a4)\n",
    "    \n",
    "    rho_hat_next = rho_hat + dt * f_rho\n",
    "    mx_hat_next = mx_hat + dt * f_mx\n",
    "\n",
    "    return rho_hat_next, mx_hat_next\n",
    "\n",
    "\n",
    "def run_exEulerFS_1D(n_step, dn_out, dt, dx, fout, v0, xi, D, lambdaa, phi_g, a4, kx, k2, rho, mx, t0):\n",
    "    n_frame = n_step // dn_out\n",
    "    rho_hat =  np.fft.rfft(rho)\n",
    "    mx_hat = np.fft.rfft(mx)\n",
    "\n",
    "    Nx = rho.size\n",
    "    rho_arr, mx_arr = np.zeros((2, n_frame, Nx))\n",
    "    t_arr = np.zeros(n_frame)\n",
    "    i_frame = 0\n",
    "    for j in range(1, n_step+1):\n",
    "        if j % dn_out == 0:\n",
    "            t = t0 + dt * j\n",
    "            rho = np.fft.irfft(rho_hat)\n",
    "            mx = np.fft.irfft(mx_hat)\n",
    "            dump_fields_1D(rho_arr, mx_arr, t_arr, rho, mx, t, i_frame)\n",
    "            show_fields_1D(rho, mx, t, dx)\n",
    "            i_frame += 1\n",
    "        rho_hat, mx_hat = exEulerFS_1D(rho_hat, mx_hat, kx, k2, v0, xi, D, lambdaa, phi_g, a4, dt)\n",
    "    \n",
    "    # np.savez_compressed(fout, rho_arr=rho_arr, px_arr=px_arr, py_arr=py_arr, t_arr=t_arr)"
   ]
  },
  {
   "cell_type": "code",
   "execution_count": 7,
   "metadata": {},
   "outputs": [],
   "source": [
    "dt = 1e-2\n",
    "spacing = 0.4\n",
    "Nx = 256 # Nx and Ny should be even\n",
    "Lx = Nx * spacing\n",
    "\n",
    "kx, k2 = get_freq_1D(Nx, spacing)\n",
    "\n",
    "rho0 = 1. + 1/6 + 0.1\n",
    "seed = 100\n",
    "ini_mode = \"rand\"\n",
    "\n",
    "v0 = 1.\n",
    "lambdaa =1.\n",
    "xi = 1.\n",
    "D = 0.1\n",
    "a4 = 1.\n",
    "phi_g = 1.\n",
    "np.random.seed(seed)\n",
    "\n",
    "folder = \"data_1D\"\n",
    "fout = f\"{folder}/L{Lx:g}_r{rho0:g}_v{v0:g}_l{lambdaa:g}_a{a4:g}_g{phi_g}_dx{spacing:g}_dt{dt:g}_s{seed}.npz\"\n",
    "\n",
    "n_step = 4000000\n",
    "dn_out = 200000\n",
    "\n",
    "# rho, mx, t0 = ini_fields_1D(fout, ini_mode, spacing, Nx, rho0)\n",
    "# mx += np.sqrt((rho0 - phi_g) / a4)\n",
    "# run_exEulerFS_1D(n_step, dn_out, dt, spacing, fout, v0, xi, D, lambdaa, phi_g, a4, kx, k2, rho, mx, t0)"
   ]
  },
  {
   "cell_type": "markdown",
   "metadata": {},
   "source": [
    "## Linearization around the ordered phase\n",
    "\n",
    "Linearizing around the ordered solution $(\\rho=\\rho_0, m=m_0)$, where $m_0=\\sqrt{(\\rho_0-\\phi_g)/a_4}$, the equation for the growth rate $\\sigma$ reads \n",
    "$$\n",
    "\\sigma^2 + \\left[q^2 D + iq\\xi m_0 + 2 (\\rho_0-\\phi_g)\\right]\\sigma + iqv_0 (m_0 - iq\\lambda) = 0. \n",
    "$$\n",
    "The ordered solutions are linearaly linearly stable only when $\\rho_0>\\phi_l=\\phi_g + \\frac{1}{4a_4 v_0 + 2\\lambda}$."
   ]
  },
  {
   "cell_type": "code",
   "execution_count": 14,
   "metadata": {},
   "outputs": [
    {
     "data": {
      "image/png": "[encoded data removed]",
      "text/plain": [
       "<Figure size 640x480 with 1 Axes>"
      ]
     },
     "metadata": {},
     "output_type": "display_data"
    }
   ],
   "source": [
    "import matplotlib.pyplot as plt\n",
    "import numpy as np\n",
    "\n",
    "def get_b(rho_0, q):\n",
    "    m0 = np.sqrt((rho_0 - phi_g)/a4)\n",
    "    return q**2 * D + 1j * q * xi * m0 + 2 * (rho_0 - phi_g)\n",
    "\n",
    "def get_c(rho_0, q):\n",
    "    m0 = np.sqrt((rho_0 - phi_g)/a4)\n",
    "    return 1j * q * v0 * (m0 - 1j * q * lambdaa)\n",
    "\n",
    "def get_sigma(rho_0, q):\n",
    "    b = get_b(rho_0, q)\n",
    "    c = get_c(rho_0, q)\n",
    "    Delta = b**2 - 4 * c\n",
    "    sigma = -b + np.sqrt(Delta)\n",
    "    return sigma\n",
    "\n",
    "v0 = 1.\n",
    "lambdaa =1.\n",
    "xi = 1\n",
    "D = 0.1\n",
    "a4 = 1.\n",
    "phi_g = 1.\n",
    "q = np.linspace(0, 1, 2000)\n",
    "rho_0 = 1 + 1 / 6. + 0.001\n",
    "\n",
    "sigma = get_sigma(rho_0, q)\n",
    "\n",
    "plt.plot(q, sigma.real)\n",
    "\n",
    "plt.show()\n",
    "plt.close()"
   ]
  }
 ],
 "metadata": {
  "kernelspec": {
   "display_name": "py310",
   "language": "python",
   "name": "python3"
  },
  "language_info": {
   "codemirror_mode": {
    "name": "ipython",
    "version": 3
   },
   "file_extension": ".py",
   "mimetype": "text/x-python",
   "name": "python",
   "nbconvert_exporter": "python",
   "pygments_lexer": "ipython3",
   "version": "3.10.11"
  }
 },
 "nbformat": 4,
 "nbformat_minor": 2
}
