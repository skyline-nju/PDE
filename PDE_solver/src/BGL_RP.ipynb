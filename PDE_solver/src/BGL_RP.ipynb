{
 "cells": [
  {
   "cell_type": "markdown",
   "metadata": {},
   "source": [
    "# BGL equations for the random potential case\n",
    "\n",
    "In this case the noise amplitude is modulated over space, such that particles' orientations follow\n",
    "\n",
    "$$\\dot{\\theta_j}=\\eta \\xi_1(t) + \\zeta \\gamma(\\mathbf{r})\\xi_2(t),$$\n",
    "\n",
    "where $\\gamma$ is uniformly distributed in $[0, 1]$."
   ]
  },
  {
   "cell_type": "markdown",
   "metadata": {},
   "source": [
    "For this case, the noise strength becomes heterogeneous, then $P_{k}(\\mathbf{r}, \\eta, \\zeta)=\\exp \\left(-\\frac{k^2 (\\eta^2 + (\\zeta\\gamma(\\mathbf{r}))^2)}{2}\\right)$ is a function of $\\mathbf{r}$, leading to the dependece of $\\mu_2$ and $J_{k, q}$ on $\\mathbf{r}$, thus one gets\n",
    "$$\\nabla^* J_{k, q} = \\nabla^* (P_k I_{k, q} - I_{0, q}) = I_{k,q} \\nabla^* P_k,$$\n",
    "and\n",
    "$$\n",
    "\\begin{aligned}\n",
    "\\nabla^* \\mu_2 &= \\nabla^* \\left[(P_2 - 1) + \\rho_0 f_0 (J_{2, 0} + J_{2, 2})\\right] \\\\\n",
    "&= \\nabla^* P_2 + \\rho_0 f_0 (I_{2, 0} + I _{2, 2}) \\nabla^* P_2 + \\rho_0 (J_{2, 0} + J_{2, 2}) \\nabla^* f_0 \\\\\n",
    "&= \\left[1 + \\rho_0 f_0 (I_{2, 0} + I_{2, 2})\\right]\\nabla^* P_2+\\rho_0 (J_{2, 0} + J_{2, 2}) \\nabla^* f_0. \n",
    "\\end{aligned}\n",
    "$$\n",
    "\n",
    "So\n",
    "$$\n",
    "\\begin{aligned}\n",
    "\\nabla^* \\frac{\\nabla f_1}{\\mu_2} & = \\frac{(\\nabla^* \\nabla f_1 )\\mu_2 - \\nabla f_1 \\nabla^* \\mu_2}{\\mu_2^2} \\\\\n",
    "&= \\frac{\\mu_2\\Delta f_1 - \\nabla f_1 \\left(\\left[1 + \\rho_0 f_0 (I_{2, 0} + I_{2, 2})\\right]\\nabla^* P_2+\\rho_0 (J_{2, 0} + J_{2, 2}) \\nabla^* f_0\\right)}{\\mu_2^2} \\\\\n",
    "&= \\frac{\\Delta f_1}{\\mu_2} - \\left (\\frac{1 + \\rho_0 f_0 (I_{2, 0} + I_{2, 2})}{\\mu_2^2} \\nabla^* P_2 + \\frac{\\rho_0 (J_{2, 0} + J_{2, 2}) }{\\mu_2^2} \\nabla^* f_0 \\right ) \\nabla f_1,\n",
    "\\end{aligned}\n",
    "$$\n",
    "\n",
    "and\n",
    "$$\n",
    "\\begin{aligned}\n",
    "\\nabla^* \\frac{J_{2, 1} f_1^2}{\\mu_2} &= \\frac{\\nabla^*(J_{2, 1}f_1^2) \\mu_2 - J_{2, 1}f_1^2 \\nabla^* \\mu_2}{\\mu_2^2} \\\\\n",
    "&= \\frac{\\nabla^* J_{2, 1} f_1^2 \\mu_2 + J_{2, 1} \\nabla^* f_1^2 \\mu_2 - J_{2, 1}f_1^2 \\nabla^* \\mu_2}{\\mu_2^2} \\\\\n",
    "&= \\frac{J_{2, 1}}{\\mu_2}\\nabla^* f_1^2 + \\left(\\frac{I_{2, 1}\\mu_2 - J_{2, 1}(1+ \\rho_0 f_0 (I_{2, 0} + I_{2, 2})) }{\\mu_2^2}\\nabla^* P_2 - \\frac{\\rho_0 J_{2, 1}(J_{2, 0}+J_{2, 2})}{\\mu_2^2}\\nabla^* f_0 \\right ) f_1^2.\n",
    "\\end{aligned}\n",
    "$$"
   ]
  },
  {
   "cell_type": "markdown",
   "metadata": {},
   "source": [
    "Immediately, we get\n",
    "$$\n",
    "\\begin{aligned}\n",
    "-\\frac{1}{2}\\nabla^* \\left (\\frac{1}{2\\mu_2} \\nabla f_1 - \\frac{\\rho_0 J_{2, 1}}{\\mu_2}f_1^2\\right) &= -\\frac{\\Delta f_1}{4\\mu_2} + \\frac{\\rho_0 J_{2, 1}}{2\\mu_2} \\nabla^* f_1^2\\\\\n",
    "&+ \\frac{1}{4}\\left( \\frac{1+\\rho_0 f_0 \\left(I_{2, 0} + I_{2, 2}\\right)}{\\mu_2}\\nabla^* P_2  + \\frac{\\rho_0 \\left(J_{2, 0} + J_{2, 2}\\right)}{\\mu_2^2}\\nabla^* f_0 \\right)\\nabla f_1 \\\\\n",
    "&+ \\frac{\\rho_0}{2} \\left (\\frac{I_{2, 1} \\mu_2 - J_{2, 1} \\left( 1 + \\rho_0 f_0 \\left(I_{2, 0} + I_{2, 2}\\right)\\right)}{\\mu_2^2}\\nabla^* P_2 - \\frac{\\rho_0 J_{2, 1}\\left(J_{2, 0} + J_{2, 2}\\right)}{\\mu_2^2}\\nabla ^* f_0\\right) f_1^2.\n",
    "\\end{aligned}\n",
    "$$"
   ]
  },
  {
   "cell_type": "markdown",
   "metadata": {},
   "source": [
    "To sumarize, $f_1$ can be expressed as\n",
    "$$f_1 = -\\frac{1}{2} \\nabla f_0 + (\\mu-\\xi|f_1|^2) f_1+ \\nu \\Delta f_1 + \\kappa_1 f_1^* \\nabla f_1 + \\kappa_2 \\nabla^* f_1^2 + (\\alpha_1 \\nabla f_1 + \\beta_1 f_1^2) \\nabla^* P_2  + (\\alpha_3 \\nabla f_1 + \\beta_3 f_1^2) \\nabla^* f_0,$$\n",
    "\n",
    "where the coefficients are listed below\n",
    "\n",
    "| Coefficient | Value | \n",
    "| :-: | :-: |\n",
    "| $\\mu$ | $$P_1 - 1 + \\rho_0 \\rho (J_{1, 0} + J_{1, 1})$$ | \n",
    "| $\\xi$ | $$\\frac{\\rho_0^2(J_{1, 2} + J_{1, -1})J_{2, 1}}{\\mu_2}$$ |\n",
    "| $\\nu$ | $$-\\frac{1}{4\\mu_2}$$ |\n",
    "| $\\kappa_1$ | $$\\frac{\\rho_0(J_{1, 2} + J_{1, -1})}{2\\mu_2}$$ |\n",
    "| $\\kappa_2$ | $$\\frac{\\rho_0 J_{2, 1}}{2\\mu_2}$$ |\n",
    "| $\\alpha_1$ | $$\\frac{1+ \\rho_0 f_0 (I_{2, 0} + I_{2, 2})}{4\\mu_2^2}$$ |\n",
    "| $\\beta_1 $ | $$\\frac{\\rho_0 \\left(I_{2, 1} \\mu_2 - J_{2, 1}\\left(1+\\rho_0 f_0 \\left(I_{2, 1} + I_{2, 2}\\right)\\right)\\right)}{2\\mu_2^2}$$ |\n",
    "| $\\alpha_3$ | $$\\frac{\\rho_0\\left(J_{2, 0} + J_{2, 2}\\right)}{4\\mu_2^2}$$|\n",
    "| $\\beta_3 $ | $$-\\frac{\\rho_0^2 J_{2, 1}\\left ( J_{2, 0} + J_{2, 2}\\right )}{2\\mu_2^2}$$|\n",
    "\n",
    "where $\\mu_2 = (P_2 - 1) + \\rho_0 f_0 (J_{2, 0} + J_{2, 2})$."
   ]
  }
 ],
 "metadata": {
  "file_extension": ".py",
  "kernelspec": {
   "display_name": "Python 3",
   "language": "python",
   "name": "python3"
  },
  "language_info": {
   "codemirror_mode": {
    "name": "ipython",
    "version": 3
   },
   "file_extension": ".py",
   "mimetype": "text/x-python",
   "name": "python",
   "nbconvert_exporter": "python",
   "pygments_lexer": "ipython3",
   "version": "3.7.0"
  },
  "mimetype": "text/x-python",
  "name": "python",
  "npconvert_exporter": "python",
  "pygments_lexer": "ipython3",
  "version": 3
 },
 "nbformat": 4,
 "nbformat_minor": 2
}
