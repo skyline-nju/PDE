{
 "cells": [
  {
   "cell_type": "markdown",
   "metadata": {},
   "source": [
    "# PDE solver "
   ]
  },
  {
   "cell_type": "markdown",
   "metadata": {},
   "source": [
    "## BGL hydrodynamic equation"
   ]
  },
  {
   "cell_type": "markdown",
   "metadata": {},
   "source": [
    "The BGL hydrodynamic equations are:\n",
    "$$\\begin{cases}\n",
    "\\partial t \\rho+ \\Re(\\nabla^* f_1)=0,\\\\\n",
    "\\partial t f_1 = -\\frac{1}{2}\\nabla \\rho + (\\mu_1[\\rho] - \\xi|f_1|^2)f_1 + \\nu \\Delta f_1 + \\kappa_1 f_1^* \\nabla f_1 + \\kappa_2 \\nabla^* f_1^2,\n",
    "\\end{cases}$$\n",
    "where $f_1=p_x+ip_y$, $\\nabla = \\partial x + i \\partial y$, $\\Delta = \\nabla \\nabla^*$. The coefficients are\n",
    "\n",
    "\n",
    "| Coefficient | Value | \n",
    "| :-: | :-: |\n",
    "| $\\mu$ | $$P_1 - 1 + \\rho_0 \\rho (J_{1, 0} + J_{1, 1})$$ | \n",
    "| $\\xi$ | $$\\frac{\\rho_0^2(J_{1, 2} + J_{1, -1})J_{2, 1}}{\\mu_2}$$ |\n",
    "| $\\nu$ | $$-\\frac{1}{4\\mu_2}$$ |\n",
    "| $\\kappa_1$ | $$\\frac{\\rho_0(J_{1, 2} + J_{1, -1})}{2\\mu_2}$$ |\n",
    "| $\\kappa_2$ | $$\\frac{\\rho_0 J_{2, 1}}{2\\mu_2}$$ |\n",
    "\n",
    "Here $\\mu_2 = P_2 - 1 + \\rho_0 (J_{2, 0} + J_{2, 2})$, $P_k = \\exp (-\\frac{k^2\\eta^2}{2})$, the mode coupling functions $J_{k, q} = P_k I_{k, q} - I_{0, q}$ with\n",
    "\n",
    "$$I_{k, q}=\\begin{cases}\n",
    "\\frac{4}{\\pi}\\frac{1-(k-2q)(-1)^q\\sin (\\frac{k\\pi}{2})}{1-(k-2q)^2}\\quad & \\mathrm{if}\\ |k-2q| \\neq 1,\\\\\n",
    "\\frac{2}{\\pi}\\quad &\\mathrm{otherwise}.\n",
    "\\end{cases}$$\n",
    "\n",
    "### Linear term:\n",
    "$$\\begin{cases}\n",
    "\\partial_t \\rho = - (\\partial_x p_x + \\partial_y p_y)\\\\\n",
    "\\partial_t p_x = -\\frac{1}{2} \\partial_x \\rho + \\mu_1 p_x + \\nu (\\partial^2_x + \\partial^2_y) p_x, \\\\\n",
    "\\partial_t p_y = -\\frac{1}{2} \\partial_y \\rho + \\mu_1 p_y + \\nu (\\partial^2_x + \\partial^2_y) p_y,\n",
    "\\end{cases}$$\n",
    "\n",
    "### Nonlinear term:\n",
    "$$\\begin{cases}\n",
    "\\partial_t p_x = (\\mu_\\rho \\rho - \\xi p^2) p_x + \\kappa_1 \\left[p_x (\\partial_x p_x -\\partial_y p_y) + p_y (\\partial_x p_y + \\partial_y p_x)\\right] + 2\\kappa_2 \\left[p_x(\\partial_x p_x + \\partial_y p_y) - p_y (\\partial_x p_y -\\partial_y p_x)\\right],\\\\\n",
    "\\partial_t p_y = (\\mu_\\rho \\rho - \\xi p^2) p_y + \\kappa_1 \\left[p_x (\\partial_x p_y +\\partial_y p_x) - p_y (\\partial_x p_x - \\partial_y p_y)\\right] + 2\\kappa_2 \\left[p_x(\\partial_x p_y - \\partial_y p_x) + p_y (\\partial_x p_x + \\partial_y p_y)\\right],\n",
    "\\end{cases}$$\n",
    "\n",
    "where $p^2=|f_1|^2= p^2_x+p^2_y$, and we have used $\\mu = \\mu_1 + \\mu_\\rho \\rho$.\n"
   ]
  },
  {
   "cell_type": "code",
   "execution_count": null,
   "metadata": {},
   "outputs": [],
   "source": []
  }
 ],
 "metadata": {
  "kernelspec": {
   "display_name": "Python 3",
   "language": "python",
   "name": "python3"
  },
  "language_info": {
   "codemirror_mode": {
    "name": "ipython",
    "version": 3
   },
   "file_extension": ".py",
   "mimetype": "text/x-python",
   "name": "python",
   "nbconvert_exporter": "python",
   "pygments_lexer": "ipython3",
   "version": "3.7.0"
  }
 },
 "nbformat": 4,
 "nbformat_minor": 2
}
