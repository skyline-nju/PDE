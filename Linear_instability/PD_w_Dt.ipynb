{
 "cells": [
  {
   "cell_type": "markdown",
   "metadata": {},
   "source": [
    "# Phase digram with positional diffusion\n",
    "\n",
    "In the presence of positonal diffusion, from the equations of density and polarity fields, the largest eigenvalue is\n",
    "\n",
    "$$\n",
    "\\lambda_{++} =\\frac{-D+\\sqrt{D^2-2\\mu q^2 + 2\\sqrt{\\Delta}q^2}}{2} - \\frac{D_t}{v_0} q^2.\n",
    "$$"
   ]
  },
  {
   "cell_type": "markdown",
   "metadata": {},
   "source": [
    "## Static patterns\n",
    "When $\\Delta>0$, $\\lambda_{++}>0$ is equivalent to \n",
    "\n",
    "$$a+ib = \\sqrt{D^2-2\\mu q^2 + 2\\sqrt{\\Delta}q^2}$$"
   ]
  }
 ],
 "metadata": {
  "kernelspec": {
   "display_name": "Python 3.9.5 ('base')",
   "language": "python",
   "name": "python3"
  },
  "language_info": {
   "name": "python",
   "version": "3.9.5"
  },
  "orig_nbformat": 4,
  "vscode": {
   "interpreter": {
    "hash": "63daafc062792a48537378df8a25d270bc34ae2d21111419ee2943273cc64321"
   }
  }
 },
 "nbformat": 4,
 "nbformat_minor": 2
}
