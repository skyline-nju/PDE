{
 "cells": [
  {
   "cell_type": "markdown",
   "metadata": {},
   "source": [
    "# Density equations for NRQS\n",
    "\n",
    "## Kinetic equation\n",
    "\n",
    "We get the hierarchies\n",
    "$$\n",
    "\t\\partial_t f_{k,S} =\n",
    "\t-\\frac{1}{2} \\nabla^* (v_S f_{k+1,S})\n",
    "\t- \\frac{1}{2} \\nabla(v_S f_{k-1,S})\n",
    "\t+ D_t \\Delta f_{k,S}\n",
    "\t- D_r k^2 f_{k,S}.\n",
    "$$\n",
    "\n",
    "Truncating it at order $\\epsilon^{k+2}$, we get equations for $\\rho_S,f_{1,S},\\dots,f_{k,S},f_{k+1,S}$:\n",
    "$$\n",
    "\\begin{aligned}\n",
    "\t\\partial_t \\rho_S &= -\\Re [\\nabla^* (v_S f_{1,S})]  + D_t \\Delta \\rho_S\\\\\n",
    "\t\\partial_t f_{1,S} &= -\\frac{1}{2} \\nabla^* (v_S f_{2,S}) - \\frac{1}{2}\\nabla(v_S\\rho_S)\n",
    "\t- D_r f_{1,S} +  D_t \\Delta f_{1,S},\\\\\n",
    "\t\\partial_t f_{2,S} &= -\\frac{1}{2} \\nabla^* (v_S f_{3,S}) - \\frac{1}{2}\\nabla(v_S f_{1,S}) - 4 D_r f_{2,S} + D_t \\Delta f_{2,S}, \\\\\n",
    "\t&\\dots \\\\\n",
    "\t\\partial_t f_{k,S} &= -\\frac{1}{2} \\nabla^* (v_S f_{k+1,S}) - \\frac{1}{2}\\nabla(v_S f_{k-1, S}) - k^2 D_r f_{k,S} + D_t \\Delta f_{k,S}, \\\\\n",
    "\t\\partial_t f_{k+1, S} &= -\\frac{1}{2}\\nabla(v_S f_{k, S}) - (k+1)^2 D_r f_{k+1, S}.\n",
    "\\end{aligned}\n",
    "$$"
   ]
  },
  {
   "cell_type": "markdown",
   "metadata": {},
   "source": [
    "## Density equations up to $\\mathcal{O}(\\nabla^2 \\rho_S)$\n",
    "\n",
    "In the equation for $f_{1,S}$, assuming $\\partial_t f_{1,S}=0$ and neglecting terms of order $\\epsilon^2\\approx\\nabla^2\\rho_S$, we get \n",
    "$$\n",
    "f_{1,S} = -\\frac{1}{2D_r} \\nabla(v_S\\rho_S) + \\mathcal{O}(\\nabla^2 \\rho_S).\n",
    "$$\n",
    "\n",
    "Substituting this expression into the equation for $\\rho_S$, we get\n",
    "$$\n",
    "\\partial_t \\rho_S = \\Re \\left[\n",
    "    \\nabla^* \\left(\n",
    "        \\frac{v_S}{2D_r} \\nabla(v_S \\rho_S)\n",
    "    \\right)\n",
    "\\right]\n",
    "+ D_t \\Delta \\rho_S + \\mathcal{O}(\\nabla^3 \\rho_S).\n",
    "$$\n",
    "\n",
    "Using vector notation, we have\n",
    "$$\n",
    "\\partial_t \\rho_S = \\nabla \\cdot \\left(\\frac{v_S}{2D_r}\\nabla(v_S \\rho_S)\\right)\n",
    "+ D_t \\Delta \\rho_S\n",
    "+\\mathcal{O}(\\nabla^3\\rho_S).\n",
    "$$"
   ]
  },
  {
   "cell_type": "markdown",
   "metadata": {},
   "source": [
    "## Density equations up to $\\mathcal{O}(\\nabla^4 \\rho_S)$\n",
    "\n",
    "In the equation for $f_{2,S}$, assuming $\\partial_t f_{2,S}=0$ and neglecting terms of order $\\epsilon^4\\approx\\nabla^4 \\rho_S$, we get\n",
    "$$\n",
    "f_{2,S} = -\\frac{1}{8D_r} \\nabla(v_S f_{1,S}) + \\mathcal{O}(\\nabla^2 f_{1,S}).\n",
    "$$\n",
    "\n",
    "Substituting this expression into the equation for $f_{1,S}$, we get\n",
    "$$\n",
    "\\partial_t f_{1,S}= \\frac{1}{16D_r} \\nabla^* \\left(\n",
    "    v_S \\nabla (v_S f_{1,S})\n",
    "\\right)\n",
    "- \\frac{1}{2}\\nabla(v_S\\rho_S)\n",
    "\t- D_r f_{1,S} +  D_t \\Delta f_{1,S} + \\mathcal{O}(\\nabla^3 f_{1,S}).\n",
    "$$"
   ]
  },
  {
   "cell_type": "markdown",
   "metadata": {},
   "source": [
    "Letting $\\partial_t f_{1,S}=0$, we get\n",
    "$$\n",
    "f_{1,S} = -\\frac{1}{2D_r} \\nabla(v_S\\rho_S)\n",
    "+ \\frac{1}{16 D_r^2}\\nabla^*\\left(v_S\\nabla(v_Sf_{1,S})\\right)\n",
    "+ \\frac{D_t}{D_r} \\Delta f_{1,S}\n",
    "+ \\mathcal{O}(\\nabla^3 f_{1,S}).\n",
    "$$\n",
    "\n",
    "Substituting $f_{1,S}=-\\frac{1}{2D_r}\\nabla(v_S\\rho_S)+\\nabla^2 \\rho_S$ into the right hand of the last equation, we get\n",
    "$$\n",
    "\\begin{aligned}\n",
    "f_{1,S} &= -\\frac{1}{2D_r} \\nabla(v_S \\rho_S)\n",
    "- \\frac{1}{32 D_r^3} \\nabla^*\\left(\n",
    "    v_S\\nabla(v_S \\nabla(v_S\\rho_S))\n",
    "\\right)\n",
    "-\\frac{D_t}{2D_r} \\Delta \\nabla (v_S\\rho_S)\n",
    "+ \\mathcal{O}(\\nabla^4\\rho_S) \\\\\n",
    "&= -\\frac{1}{2D_r}\\left[\n",
    "    \\nabla + \\frac{1}{16D_r^2}\\nabla^*(v_S\\nabla(v_S\\nabla)) + D_t \\Delta \\nabla\n",
    "\\right](v_S\\rho_S)\n",
    "+ \\mathcal{O}(\\nabla^4 \\rho_S).\n",
    "\\end{aligned}\n",
    "$$\n",
    "Now substiting this expression into the equation for $\\rho_S$, we get\n",
    "$$\n",
    "\\rho_S = \\Re\\left[\n",
    "    \\nabla^* \\left[\n",
    "        \\frac{v_S}{2D_r} \\left(\n",
    "            \\nabla + \\frac{1}{16D_r^2}\\nabla^*(v_S\\nabla(v_S\\nabla)) + D_t \\Delta \\nabla\n",
    "        \\right) (v_S\\rho_S)\n",
    "    \\right] \n",
    "\\right]\n",
    "+ D_t \\Delta \\rho_S\n",
    "+ \\mathcal{O}(\\nabla^5 \\rho_S)\n",
    "$$"
   ]
  }
 ],
 "metadata": {
  "kernelspec": {
   "display_name": "Python 3.9.5 ('base')",
   "language": "python",
   "name": "python3"
  },
  "language_info": {
   "name": "python",
   "version": "3.9.5"
  },
  "orig_nbformat": 4,
  "vscode": {
   "interpreter": {
    "hash": "63daafc062792a48537378df8a25d270bc34ae2d21111419ee2943273cc64321"
   }
  }
 },
 "nbformat": 4,
 "nbformat_minor": 2
}
