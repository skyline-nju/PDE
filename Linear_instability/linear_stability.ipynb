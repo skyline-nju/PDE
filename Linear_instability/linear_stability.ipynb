{
 "cells": [
  {
   "cell_type": "code",
   "execution_count": 1,
   "metadata": {},
   "outputs": [],
   "source": [
    "from sympy import *"
   ]
  },
  {
   "cell_type": "markdown",
   "metadata": {},
   "source": [
    "# Linear stability analysis\n",
    "We need know the positivity of the real part of $\\lambda$, where $\\lambda$ is the root of $|\\underline{\\mathbf{J}}-\\lambda \\underline{\\mathbf{I}}|=0$, i.e,\n",
    "$$\n",
    "    \\begin{aligned}\n",
    "    |\\underline{\\mathbf{J}}-\\lambda\\underline{\\mathbf{I}}|\n",
    "    &= -\\lambda\n",
    "        \\left|\\begin{matrix}\n",
    "            -\\lambda & 0 & -i\\bar{v}_B \\\\\n",
    "            -i\\nu_{AB}/\\bar{v}_A & -\\gamma_A -\\lambda & 0 \\\\\n",
    "            -i\\nu_{BB}/\\bar{v}_B & 0 & -\\gamma_B -\\lambda\n",
    "        \\end{matrix}\\right|\n",
    "        -i\\bar{v}_A\n",
    "        \\left|\\begin{matrix}\n",
    "            0 & -\\lambda & -i\\bar{v}_B \\\\\n",
    "            -i\\nu_{AA}/\\bar{v}_A & -i\\nu_{AB}/\\bar{v}_A & 0 \\\\\n",
    "            -i\\nu_{BA}/\\bar{v}_B & -i\\nu_{BB}/\\bar{v}_B & -\\gamma_B - \\lambda\n",
    "        \\end{matrix}\\right| \\\\\n",
    "        &= \\lambda^2(\\gamma_A+\\lambda)(\\gamma_B+\\lambda) + \\nu_{BB}\\lambda(\\gamma_A+\\lambda) + \\nu_{AA} \\lambda(\\gamma_B+\\lambda) + \\nu_{AA}\\nu_{BB} -\\nu_{AB}\\nu_{BA} \\\\\n",
    "        &=a_0\\lambda^4 + a_1\\lambda^3 + a_2\\lambda^2 + a_3\\lambda + a_4,\n",
    "    \\end{aligned}\n",
    "$$\n",
    "where\n",
    "$$\n",
    "    \\begin{aligned}\n",
    "    a_0 &= 1, \\\\\n",
    "    a_1 &= \\gamma_A + \\gamma_B,\\\\\n",
    "    a_2 &= \\gamma_A \\gamma_B + \\nu_{AA} + \\nu_{BB},\\\\\n",
    "    a_3 &= \\gamma_A \\nu_{BB} + \\gamma_B \\nu_{AA},\\\\\n",
    "    a_4 &= \\nu_{AA}\\nu_{BB} - \\nu_{AB}\\nu_{BA}.\n",
    "    \\end{aligned}\n",
    "$$\n",
    "\n",
    "The necessary and sufficient condition for all $\\Re(\\lambda) < 0$ is\n",
    "$$\n",
    "    \\begin{aligned}\n",
    "    \\Delta_1 &= a_1 >0,\\\\\n",
    "    \\Delta_2 &= \\left|\\begin{matrix}\n",
    "        a_1 & a_0 \\\\\n",
    "        a_3 & a_2\n",
    "    \\end{matrix}\\right| = a_1 a_2 - a_0 a_3 > 0, \\\\\n",
    "    \\Delta_3 &= \\left|\\begin{matrix}\n",
    "        a_1 & a_0 & 0\\\\\n",
    "        a_3 & a_2 & a_1 \\\\\n",
    "        0 & a_4 & a_3\n",
    "    \\end{matrix}\\right| = a_3\\Delta_2 - a_1^2 a_4 = a_1 a_2 a_3 -a_1^2 a_4 - a_0 a_3^2 >0, \\\\\n",
    "    \\Delta_4 &= \\left|\\begin{matrix}\n",
    "        a_1 & a_0 & 0 & 0\\\\\n",
    "        a_3 & a_2 & a_1 & a_0\\\\\n",
    "        0 & a_4 & a_3 & a_2 \\\\\n",
    "        0 & 0 & 0 & a_4\n",
    "    \\end{matrix}\\right| = a_4 \\Delta_3 > 0\n",
    "    \\end{aligned}\n",
    "$$\n",
    "\n"
   ]
  },
  {
   "cell_type": "code",
   "execution_count": 57,
   "metadata": {},
   "outputs": [],
   "source": [
    "gamma_A, gamma_B = symbols('gamma_A gamma_B', positive=True)\n",
    "nu_AA, nu_BB, nu_c = symbols('nu_AA nu_BB nu_c', real=True)\n",
    "\n",
    "f_a1 = gamma_A + gamma_B\n",
    "f_a2 = gamma_A * gamma_B + nu_AA + nu_BB\n",
    "f_a3 = gamma_A * nu_BB + gamma_B * nu_AA\n",
    "f_a4 = nu_AA * nu_BB - nu_c\n",
    "\n",
    "f_Delta_2 = f_a1 * f_a2 - f_a3\n",
    "f_Delta_3 = f_a3 * f_Delta_2 - f_a1 ** 2 * f_a4\n",
    "\n",
    "f_Delta_3_new = (gamma_A * nu_BB + gamma_B * nu_AA) * (gamma_A + gamma_B) * gamma_A * gamma_B + gamma_A * gamma_B * (nu_AA - nu_BB)**2 + (gamma_A+gamma_B)**2 * nu_c\n"
   ]
  },
  {
   "cell_type": "markdown",
   "metadata": {},
   "source": [
    "Introducing\n",
    "$$\n",
    "    \\begin{aligned}\n",
    "        \\sigma_D &\\equiv \\frac{D_{r,A}}{D_{r,B}}, \\\\\n",
    "        \\sigma_v&\\equiv \\bar{v}_A/\\bar{v}_B, \\\\\n",
    "        \\mathrm{Pe} &= \\frac{\\bar{v}_B}{D_{r,B}},\n",
    "    \\end{aligned}\n",
    "$$\n",
    "then\n",
    "$$\n",
    "    \\begin{aligned}\n",
    "        \\gamma_A &= \\frac{D_{r,A}}{q} + \\frac{\\bar{v}_A^2 q}{16 D_{r,A}} = D_{r, B} \\left(\\frac{\\sigma_D}{q} + \\frac{\\mathrm{Pe}^2\\sigma_v^2}{16\\sigma_D}q\\right), \\\\\n",
    "        \\gamma_B &= \\frac{D_{r,B}}{q} + \\frac{\\bar{v}_B^2 q}{16 D_{r,B}} = D_{r, B} \\left(\\frac{1}{q} + \\frac{\\mathrm{Pe}^2}{16}q\\right), \\\\\n",
    "        \\nu_{AA} &= \\frac{\\bar{v}^2_A}{2}\\left(1+  \\omega_{AA} (1-\\ell^2 q^2) \\right)\n",
    "                  = \\frac{D_{r,B}^2 \\mathrm{Pe}^2 \\sigma_v^2}{2}\\left(1+  \\omega_{AA} (1-\\ell^2 q^2) \\right),\\\\\n",
    "        \\nu_{BB} &= \\frac{\\bar{v}^2_B}{2}\\left(1+  \\omega_{BB} (1-\\ell^2 q^2) \\right)\n",
    "                 =\\frac{D_{r,B}^2\\mathrm{Pe}^2}{2}\\left(1+  \\omega_{BB} (1-\\ell^2 q^2) \\right),\\\\\n",
    "        \\nu_{AB}\\nu_{BA} & = \\frac{\\bar{v}_A^2\\bar{v}_B^2}{4}\\omega_{AB}\\omega_{BA} (1-\\ell^2q^2)^2\n",
    "                      =\\frac{D_{r,B}^4\\mathrm{Pe}^4\\sigma_v^2}{4}\\omega_{AB}\\omega_{BA} (1-\\ell^2q^2)^2.\n",
    "    \\end{aligned}\n",
    "$$"
   ]
  },
  {
   "cell_type": "code",
   "execution_count": 58,
   "metadata": {},
   "outputs": [],
   "source": [
    "# q, eps_AA, eps_BB, eps_AB, eps_BA = symbols('q varepsilon_AA varepsilon_BB varepsilon_AB varepsilon_BA', real=True)\n",
    "# D = Symbol('D', positive=True)\n",
    "# lamb = Symbol('lambda')\n",
    "\n",
    "q, l, sigma_D, sigma_v, Pe = symbols('q l sigma_D sigma_v Pe', positive=True)\n",
    "\n",
    "w1, w2, wc = symbols('w_1 w_2 w_c', real=True)\n",
    "\n",
    "f_gamma_A = sigma_D/q + Pe**2 * sigma_v**2 / (16 * sigma_D) * q\n",
    "f_gamma_B = 1/q + Pe**2 / 16 * q\n",
    "f_nu_AA = Pe**2 * sigma_v**2 / 2 * (1 + (w1-1)*(1-l**2 * q**2))\n",
    "f_nu_BB = Pe**2 / 2 * (1 + (w2-1)*(1-l**2 * q**2))\n",
    "f_nu_c = Pe**4 * sigma_v**2 / 4 * wc * (1-l**2 * q**2)**2\n"
   ]
  },
  {
   "cell_type": "code",
   "execution_count": 61,
   "metadata": {},
   "outputs": [
    {
     "data": {
      "text/latex": [
       "$\\displaystyle \\frac{Pe^{4} \\sigma_{v}^{2} w_{c} \\left(- l^{2} q^{2} + 1\\right)^{2} \\left(\\frac{Pe^{2} q}{16} + \\frac{Pe^{2} q \\sigma_{v}^{2}}{16 \\sigma_{D}} + \\frac{\\sigma_{D}}{q} + \\frac{1}{q}\\right)^{2}}{4} + \\left(\\frac{Pe^{2} q}{16} + \\frac{1}{q}\\right) \\left(\\frac{Pe^{2} \\sigma_{v}^{2} \\left(\\left(w_{1} - 1\\right) \\left(- l^{2} q^{2} + 1\\right) + 1\\right)}{2} - \\frac{Pe^{2} \\left(\\left(w_{2} - 1\\right) \\left(- l^{2} q^{2} + 1\\right) + 1\\right)}{2}\\right)^{2} \\left(\\frac{Pe^{2} q \\sigma_{v}^{2}}{16 \\sigma_{D}} + \\frac{\\sigma_{D}}{q}\\right) + \\left(\\frac{Pe^{2} q}{16} + \\frac{1}{q}\\right) \\left(\\frac{Pe^{2} q \\sigma_{v}^{2}}{16 \\sigma_{D}} + \\frac{\\sigma_{D}}{q}\\right) \\left(\\frac{Pe^{2} \\sigma_{v}^{2} \\left(\\frac{Pe^{2} q}{16} + \\frac{1}{q}\\right) \\left(\\left(w_{1} - 1\\right) \\left(- l^{2} q^{2} + 1\\right) + 1\\right)}{2} + \\frac{Pe^{2} \\left(\\left(w_{2} - 1\\right) \\left(- l^{2} q^{2} + 1\\right) + 1\\right) \\left(\\frac{Pe^{2} q \\sigma_{v}^{2}}{16 \\sigma_{D}} + \\frac{\\sigma_{D}}{q}\\right)}{2}\\right) \\left(\\frac{Pe^{2} q}{16} + \\frac{Pe^{2} q \\sigma_{v}^{2}}{16 \\sigma_{D}} + \\frac{\\sigma_{D}}{q} + \\frac{1}{q}\\right)$"
      ],
      "text/plain": [
       "Pe**4*sigma_v**2*w_c*(-l**2*q**2 + 1)**2*(Pe**2*q/16 + Pe**2*q*sigma_v**2/(16*sigma_D) + sigma_D/q + 1/q)**2/4 + (Pe**2*q/16 + 1/q)*(Pe**2*sigma_v**2*((w_1 - 1)*(-l**2*q**2 + 1) + 1)/2 - Pe**2*((w_2 - 1)*(-l**2*q**2 + 1) + 1)/2)**2*(Pe**2*q*sigma_v**2/(16*sigma_D) + sigma_D/q) + (Pe**2*q/16 + 1/q)*(Pe**2*q*sigma_v**2/(16*sigma_D) + sigma_D/q)*(Pe**2*sigma_v**2*(Pe**2*q/16 + 1/q)*((w_1 - 1)*(-l**2*q**2 + 1) + 1)/2 + Pe**2*((w_2 - 1)*(-l**2*q**2 + 1) + 1)*(Pe**2*q*sigma_v**2/(16*sigma_D) + sigma_D/q)/2)*(Pe**2*q/16 + Pe**2*q*sigma_v**2/(16*sigma_D) + sigma_D/q + 1/q)"
      ]
     },
     "execution_count": 61,
     "metadata": {},
     "output_type": "execute_result"
    }
   ],
   "source": [
    "f_D3 = f_Delta_3_new.subs([(gamma_A, f_gamma_A), (gamma_B, f_gamma_B), (nu_AA, f_nu_AA), (nu_BB, f_nu_BB), (nu_c, f_nu_c)])\n",
    "f_D3\n",
    "# collect(f_D3 * q**2, q)\n",
    "# expand_D3 = expand(f_D3)\n",
    "# collect(expand_D3, q)"
   ]
  }
 ],
 "metadata": {
  "kernelspec": {
   "display_name": "Python 3.9.5 ('base')",
   "language": "python",
   "name": "python3"
  },
  "language_info": {
   "codemirror_mode": {
    "name": "ipython",
    "version": 3
   },
   "file_extension": ".py",
   "mimetype": "text/x-python",
   "name": "python",
   "nbconvert_exporter": "python",
   "pygments_lexer": "ipython3",
   "version": "3.9.5"
  },
  "orig_nbformat": 4,
  "vscode": {
   "interpreter": {
    "hash": "63daafc062792a48537378df8a25d270bc34ae2d21111419ee2943273cc64321"
   }
  }
 },
 "nbformat": 4,
 "nbformat_minor": 2
}
