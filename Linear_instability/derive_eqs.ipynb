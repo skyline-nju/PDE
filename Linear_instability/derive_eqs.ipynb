{
 "cells": [
  {
   "cell_type": "markdown",
   "metadata": {},
   "source": [
    "# Derive hydrodynamic equations for NRQS\n",
    "\n",
    "## Fokker-Plank equations\n",
    "\n",
    "The Fokker-Plank equation for particles of species $S\\in \\{A, B\\}$:\n",
    "\n",
    "$$ \\tag{1}\n",
    "\\partial_t f_S(\\mathbf{r},\\theta,t)=\n",
    "-\\nabla\\cdot \\left [v_S[\\rho_A(\\mathbf{r}), \\rho_B(\\mathbf{r})]\\hat{\\mathbf{e}}(\\theta) f_S(\\mathbf{r},\\theta,t)\\right]\n",
    "+ D_t \\Delta f_S\n",
    "+ D_r \\partial^2_{\\theta\\theta} f_S({\\mathbf{r},\\theta,t}),\n",
    "$$\n",
    "\n",
    "where $f_S(\\mathbf{r},\\theta,t)$ denotes the single body distribution for particles of species $S$, whose moving speed $v_S[\\rho_A, \\rho_B]$ depends on the local density fields $\\rho_A(\\mathbf{r})$ and $\\rho_B(\\mathbf{r})$. The distribution function $f_S$ can be expanded in terms of angular Fourier modes\n",
    "\n",
    "$$f_S(\\mathbf{r},\\theta,t)=\\frac{1}{2\\pi}\\sum_{k=-\\infty}^{\\infty} f_{k, S}(\\mathbf{r},t) e^{-ik\\theta},$$\n",
    "\n",
    "where $f_{k,S}(\\mathbf{r},t)=\\int_{0}^{2\\pi} \\mathrm{d}\\theta\\ e^{ik\\theta}f_S(\\mathbf{r},\\theta,t)$,\n",
    "the first three modes of which correspond to the complex representation of density $\\rho$, polarity $\\mathbf{p}$ and nematic $\\mathbf{Q}$ fields:\n",
    "\n",
    "$$f_{0, S} = \\rho_S,\\quad f_{1, S} = \\mathbf{p}_{x,S}+i\\mathbf{p}_{y,S},\\quad f_{2,S} = 2(Q_{xx, S}+iQ_{xy, S}).$$\n",
    "\n",
    "Using complex number notation, Eq. ($1$) can be rewritten as\n",
    "\n",
    "$$\n",
    "\\partial_t f_S(\\mathbf{r},\\theta,t)=\n",
    "-\\frac{1}{2}\\nabla^* [v e^{i\\theta}f_S({\\mathbf{r},\\theta,t})]\n",
    "-\\frac{1}{2}\\nabla [v e^{-i\\theta} f_S({\\mathbf{r},\\theta,t})]\n",
    "+D_t \\Delta f_S\n",
    "+D_r \\partial^2_{\\theta\\theta} f_S({\\mathbf{r},\\theta,t}),\n",
    "$$\n",
    "\n",
    "where $\\nabla=\\partial_x+i\\partial_y$, $\\nabla^*=\\partial_x-i\\partial_y$. Note that $\\nabla \\cdot \\mathbf{u}=(\\nabla^* u + \\nabla u^*)/2$ has been used. We get the hierarchies\n",
    "$$ \\tag{2}\n",
    "\\partial_t f_{k,S} =\n",
    "-\\frac{1}{2} \\nabla^* (v_S f_{k+1,S})\n",
    "-\\frac{1}{2} \\nabla(v_S f_{k-1,S})\n",
    "+D_t \\Delta f_{k, S}\n",
    "-D_r k^2 f_{k,S}.$$"
   ]
  },
  {
   "cell_type": "markdown",
   "metadata": {},
   "source": [
    "## Hydrodynamic equations\n",
    "\n",
    "At the onset of instability of the homogeneous phase, we impose the following ansatz\n",
    "$$|f_{k,S}|\\approx \\epsilon^k,  \\partial_t\\approx \\nabla\\approx \\epsilon,$$\n",
    "Truncating Eq. ($2$) at order $\\epsilon^3$, we get equations for $\\rho_S$, $f_{1,S}$ and $f_{2,S}$:\n",
    "\n",
    "$$\n",
    "\\begin{align*}\n",
    "    \\partial_t \\rho_S &= -\\Re [\\nabla^* (v_S f_{1,S})] + D_t \\Delta \\rho_S\\\\\n",
    "    \\partial_t f_{1,S} &= -\\frac{1}{2} \\nabla^* (v_S f_{2,S}) - \\frac{1}{2}\\nabla(v_S\\rho_S) + D_t \\Delta f_{1,S} -D_r f_{1,S}\\\\\n",
    "    \\partial_t f_{2,S} &= - \\frac{1}{2}\\nabla(v_S f_{1,S}) - 4 D_r f_{2,S}.\n",
    "\\end{align*}\n",
    "$$\n",
    "\n",
    "Setting $\\partial_t f_{2,S}=0$, wet get $f_{2,S}=-\\frac{1}{8D_r}\\nabla(v_S f_{1,S})$, substituting which into the equation for $f_{1,S}$ leads to\n",
    "$$\n",
    "\\partial_t f_{1,S} = \\frac{1}{16D_r}[\\nabla^* v_S \\nabla (v_S f_{1,S}) + v_S \\Delta (v_S f_{1,S})]\n",
    "-\\frac{1}{2} \\nabla (v_S\\rho_S)\n",
    "+D_t \\Delta f_{1,S}\n",
    "-D_r f_{1,S},\n",
    "$$\n",
    "\n",
    "where $\\Delta = \\nabla \\nabla^* = \\partial_x^2+\\partial_y^2$. Neglecting the $\\nabla^* v_S \\nabla (v_S f_{1,S})$ term which only gives nonlinear term when performing linear expansions, we get the equations for $\\rho_S$ and $\\mathbf{p}_S$ in vector form:\n",
    "\\begin{align*} \\tag{3}\n",
    "    \\partial_t \\rho_S &= -\\nabla \\cdot (v_S \\mathbf{p}_S) + D_t\\Delta \\rho_S,\\\\\n",
    "    \\partial_t \\mathbf{p}_S &= \\frac{v_S}{16D_r} \\Delta (v_S\\mathbf{p}_S) - \\frac{1}{2} \\nabla (v_S \\rho_S) \n",
    "    +D_t\\Delta \\mathbf{p}_{S} - D_r \\mathbf{p}_S,\n",
    "\\end{align*}\n",
    "$$"
   ]
  },
  {
   "cell_type": "markdown",
   "metadata": {},
   "source": [
    "We also need know $v_S[\\rho_A, \\rho_B]$ to get the closed equations for $\\rho_S$ and $\\mathbf{p}_S$. For simplicity, we assume $v_S$ has linear dependence on $\\rho_A$ and $\\rho_B$:\n",
    "$$ \\tag{4}\n",
    "v_S = \\bar{v}_{S} \\left [1\n",
    "+ \\eta_{S A} \\frac{\\rho_A (\\mathbf{r}) - \\bar{\\rho}_{A}}{\\rho_0}\n",
    "+ \\eta_{S B} \\frac{\\rho_B (\\mathbf{r}) - \\bar{\\rho}_{B}}{\\rho_0} \n",
    "\\right ].\n",
    "$$"
   ]
  },
  {
   "cell_type": "markdown",
   "metadata": {},
   "source": [
    "## Linear stability analysis\n",
    "\n",
    "For ease of analysis, set $\\bar{v}_A=\\bar{v}_B=v_0$ and\n",
    "$\\bar{\\rho}_A=\\bar{\\rho}_B=\\rho_0$. Substituting $v_S(\\mathbf{r})=v_0 + \\delta v_S(\\mathbf{r})$ and $\\rho_S(\\mathbf{r})=\\rho_0 + \\delta \\rho_S(\\mathbf{r})$ into Eq. \\eqref{eq:v-rho-linear}, we get\n",
    "$$\n",
    "\t\\delta v_S= \\frac{v_0}{\\rho_0}(\\eta_{SA} \\delta \\rho_A + \\eta_{SB} \\delta \\rho_B).\n",
    "$$"
   ]
  }
 ],
 "metadata": {
  "kernelspec": {
   "display_name": "base",
   "language": "python",
   "name": "python3"
  },
  "language_info": {
   "name": "python",
   "version": "3.9.5"
  },
  "orig_nbformat": 4,
  "vscode": {
   "interpreter": {
    "hash": "63daafc062792a48537378df8a25d270bc34ae2d21111419ee2943273cc64321"
   }
  }
 },
 "nbformat": 4,
 "nbformat_minor": 2
}
