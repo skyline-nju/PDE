{
 "cells": [
  {
   "cell_type": "code",
   "execution_count": 2,
   "id": "3f62055e",
   "metadata": {},
   "outputs": [],
   "source": [
    "from sympy import *\n",
    "from sympy import I"
   ]
  },
  {
   "cell_type": "code",
   "execution_count": 3,
   "id": "81ded3ce",
   "metadata": {},
   "outputs": [],
   "source": [
    "q, eps_AA, eps_BB, eps_AB, eps_BA = symbols('q varepsilon_AA varepsilon_BB varepsilon_AB varepsilon_BA', real=True)\n",
    "D = Symbol('D', positive=True)\n",
    "lamb = Symbol('lambda')"
   ]
  },
  {
   "cell_type": "code",
   "execution_count": 4,
   "id": "46ba685f",
   "metadata": {},
   "outputs": [
    {
     "data": {
      "text/latex": [
       "$\\displaystyle \\left[\\begin{matrix}0 & i q & 0 & 0\\\\\\varepsilon_{AA} & D & \\varepsilon_{AB} & 0\\\\0 & 0 & 0 & i q\\\\\\varepsilon_{BA} & 0 & \\varepsilon_{BB} & D\\end{matrix}\\right]$"
      ],
      "text/plain": [
       "Matrix([\n",
       "[            0, I*q,             0,   0],\n",
       "[varepsilon_AA,   D, varepsilon_AB,   0],\n",
       "[            0,   0,             0, I*q],\n",
       "[varepsilon_BA,   0, varepsilon_BB,   D]])"
      ]
     },
     "execution_count": 4,
     "metadata": {},
     "output_type": "execute_result"
    }
   ],
   "source": [
    "M = Matrix([[0, q*I, 0, 0], [eps_AA, D, eps_AB, 0], [0, 0, 0, q*I], [eps_BA, 0, eps_BB, D]])\n",
    "M"
   ]
  },
  {
   "cell_type": "code",
   "execution_count": 5,
   "id": "241ad925",
   "metadata": {
    "scrolled": true
   },
   "outputs": [
    {
     "data": {
      "text/latex": [
       "$\\displaystyle \\left[\\begin{matrix}- \\lambda & i q & 0 & 0\\\\\\varepsilon_{AA} & D - \\lambda & \\varepsilon_{AB} & 0\\\\0 & 0 & - \\lambda & i q\\\\\\varepsilon_{BA} & 0 & \\varepsilon_{BB} & D - \\lambda\\end{matrix}\\right]$"
      ],
      "text/plain": [
       "Matrix([\n",
       "[      -lambda,        I*q,             0,          0],\n",
       "[varepsilon_AA, D - lambda, varepsilon_AB,          0],\n",
       "[            0,          0,       -lambda,        I*q],\n",
       "[varepsilon_BA,          0, varepsilon_BB, D - lambda]])"
      ]
     },
     "execution_count": 5,
     "metadata": {},
     "output_type": "execute_result"
    }
   ],
   "source": [
    "M_lambda = M - lamb * eye(4)\n",
    "M_lambda"
   ]
  },
  {
   "cell_type": "code",
   "execution_count": 6,
   "id": "b214aa1f",
   "metadata": {},
   "outputs": [
    {
     "data": {
      "text/latex": [
       "$\\displaystyle D^{2} \\lambda^{2} - 2 D \\lambda^{3} + i D \\lambda q \\varepsilon_{AA} + i D \\lambda q \\varepsilon_{BB} + \\lambda^{4} - i \\lambda^{2} q \\varepsilon_{AA} - i \\lambda^{2} q \\varepsilon_{BB} - q^{2} \\varepsilon_{AA} \\varepsilon_{BB} + q^{2} \\varepsilon_{AB} \\varepsilon_{BA}$"
      ],
      "text/plain": [
       "D**2*lambda**2 - 2*D*lambda**3 + I*D*lambda*q*varepsilon_AA + I*D*lambda*q*varepsilon_BB + lambda**4 - I*lambda**2*q*varepsilon_AA - I*lambda**2*q*varepsilon_BB - q**2*varepsilon_AA*varepsilon_BB + q**2*varepsilon_AB*varepsilon_BA"
      ]
     },
     "execution_count": 6,
     "metadata": {},
     "output_type": "execute_result"
    }
   ],
   "source": [
    "det = M_lambda.det()\n",
    "det"
   ]
  },
  {
   "cell_type": "code",
   "execution_count": 7,
   "id": "d7b73057",
   "metadata": {},
   "outputs": [
    {
     "data": {
      "text/latex": [
       "$\\displaystyle D^{2} \\lambda^{2} - 2 D \\lambda^{3} - \\frac{D \\lambda q^{2} \\left(\\eta_{AA} + 1\\right)}{2} - \\frac{D \\lambda q^{2} \\left(\\eta_{BB} + 1\\right)}{2} - \\frac{\\eta_{AB} \\eta_{BA} q^{4}}{4} + \\lambda^{4} + \\frac{\\lambda^{2} q^{2} \\left(\\eta_{AA} + 1\\right)}{2} + \\frac{\\lambda^{2} q^{2} \\left(\\eta_{BB} + 1\\right)}{2} + \\frac{q^{4} \\left(\\eta_{AA} + 1\\right) \\left(\\eta_{BB} + 1\\right)}{4}$"
      ],
      "text/plain": [
       "D**2*lambda**2 - 2*D*lambda**3 - D*lambda*q**2*(eta_AA + 1)/2 - D*lambda*q**2*(eta_BB + 1)/2 - eta_AB*eta_BA*q**4/4 + lambda**4 + lambda**2*q**2*(eta_AA + 1)/2 + lambda**2*q**2*(eta_BB + 1)/2 + q**4*(eta_AA + 1)*(eta_BB + 1)/4"
      ]
     },
     "execution_count": 7,
     "metadata": {},
     "output_type": "execute_result"
    }
   ],
   "source": [
    "eta_AA, eta_AB, eta_BA, eta_BB = symbols('eta_AA eta_AB eta_BA eta_BB', real=True)\n",
    "det1 = det.subs([(eps_AA, I * q  * (1+eta_AA)/2), (eps_BB, I * q * (1+eta_BB)/2), (eps_AB, I * q * eta_AB/2), (eps_BA, I * q * eta_BA/2)])\n",
    "det1"
   ]
  },
  {
   "cell_type": "code",
   "execution_count": 8,
   "id": "6c79c483",
   "metadata": {},
   "outputs": [
    {
     "data": {
      "text/latex": [
       "$\\displaystyle D^{2} \\lambda^{2} - 2 D \\lambda^{3} - D \\lambda q^{2} \\left(\\eta + 1\\right) + \\lambda^{4} + \\lambda^{2} q^{2} \\left(\\eta + 1\\right) - \\frac{q^{4} \\left(- \\alpha + \\eta\\right) \\left(\\alpha + \\eta\\right)}{4} + \\frac{q^{4} \\left(\\eta + 1\\right)^{2}}{4}$"
      ],
      "text/plain": [
       "D**2*lambda**2 - 2*D*lambda**3 - D*lambda*q**2*(eta + 1) + lambda**4 + lambda**2*q**2*(eta + 1) - q**4*(-alpha + eta)*(alpha + eta)/4 + q**4*(eta + 1)**2/4"
      ]
     },
     "execution_count": 8,
     "metadata": {},
     "output_type": "execute_result"
    }
   ],
   "source": [
    "eta = Symbol('eta', real=True)\n",
    "alpha = Symbol('alpha', positive=True)\n",
    "det2 = det1.subs([(eta_AA, eta), (eta_BB, eta), (eta_AB, eta+alpha), (eta_BA, eta-alpha)])\n",
    "det2"
   ]
  },
  {
   "cell_type": "code",
   "execution_count": 9,
   "id": "73189c2b",
   "metadata": {},
   "outputs": [
    {
     "data": {
      "text/latex": [
       "$\\displaystyle D^{2} \\lambda^{2} - 2 D \\lambda^{3} - D \\lambda q^{2} + \\frac{\\alpha^{2} q^{4}}{4} + \\lambda^{4} + \\lambda^{2} q^{2} + \\frac{q^{4}}{4}$"
      ],
      "text/plain": [
       "D**2*lambda**2 - 2*D*lambda**3 - D*lambda*q**2 + alpha**2*q**4/4 + lambda**4 + lambda**2*q**2 + q**4/4"
      ]
     },
     "execution_count": 9,
     "metadata": {},
     "output_type": "execute_result"
    }
   ],
   "source": [
    "det3 = det2.subs(eta, 0)\n",
    "det3"
   ]
  },
  {
   "cell_type": "code",
   "execution_count": 10,
   "id": "7e8f4f7e",
   "metadata": {},
   "outputs": [
    {
     "name": "stdout",
     "output_type": "stream",
     "text": [
      "find 4 roots\n"
     ]
    },
    {
     "data": {
      "text/latex": [
       "$\\displaystyle \\frac{D}{2} - \\frac{\\sqrt{D^{2} - 2 i \\alpha q^{2} - 2 q^{2}}}{2}$"
      ],
      "text/plain": [
       "D/2 - sqrt(D**2 - 2*I*alpha*q**2 - 2*q**2)/2"
      ]
     },
     "execution_count": 10,
     "metadata": {},
     "output_type": "execute_result"
    }
   ],
   "source": [
    "root = solve(det3, lamb)\n",
    "print(\"find %d roots\" % len(root))\n",
    "root[0]"
   ]
  },
  {
   "cell_type": "code",
   "execution_count": 11,
   "id": "b6e7bfa8",
   "metadata": {},
   "outputs": [
    {
     "data": {
      "text/latex": [
       "$\\displaystyle \\frac{D}{2} + \\frac{\\sqrt{D^{2} - 2 i \\alpha q^{2} - 2 q^{2}}}{2}$"
      ],
      "text/plain": [
       "D/2 + sqrt(D**2 - 2*I*alpha*q**2 - 2*q**2)/2"
      ]
     },
     "execution_count": 11,
     "metadata": {},
     "output_type": "execute_result"
    }
   ],
   "source": [
    "root[1]"
   ]
  },
  {
   "cell_type": "code",
   "execution_count": 12,
   "id": "20967fec",
   "metadata": {},
   "outputs": [
    {
     "data": {
      "text/latex": [
       "$\\displaystyle \\frac{D}{2} - \\frac{\\sqrt{D^{2} + 2 i \\alpha q^{2} - 2 q^{2}}}{2}$"
      ],
      "text/plain": [
       "D/2 - sqrt(D**2 + 2*I*alpha*q**2 - 2*q**2)/2"
      ]
     },
     "execution_count": 12,
     "metadata": {},
     "output_type": "execute_result"
    }
   ],
   "source": [
    "root[2]"
   ]
  },
  {
   "cell_type": "code",
   "execution_count": 13,
   "id": "422c7d60",
   "metadata": {},
   "outputs": [
    {
     "data": {
      "text/latex": [
       "$\\displaystyle \\frac{D}{2} + \\frac{\\sqrt{D^{2} + 2 i \\alpha q^{2} - 2 q^{2}}}{2}$"
      ],
      "text/plain": [
       "D/2 + sqrt(D**2 + 2*I*alpha*q**2 - 2*q**2)/2"
      ]
     },
     "execution_count": 13,
     "metadata": {},
     "output_type": "execute_result"
    }
   ],
   "source": [
    "root[3]"
   ]
  },
  {
   "cell_type": "code",
   "execution_count": 14,
   "id": "de9e92f3",
   "metadata": {},
   "outputs": [
    {
     "data": {
      "text/latex": [
       "$\\displaystyle \\frac{D}{2} - \\frac{\\sqrt[4]{4 \\alpha^{2} q^{4} + \\left(D^{2} - 2 q^{2}\\right)^{2}} \\cos{\\left(\\frac{\\operatorname{atan}_{2}{\\left(- 2 \\alpha q^{2},D^{2} - 2 q^{2} \\right)}}{2} \\right)}}{2}$"
      ],
      "text/plain": [
       "D/2 - (4*alpha**2*q**4 + (D**2 - 2*q**2)**2)**(1/4)*cos(atan2(-2*alpha*q**2, D**2 - 2*q**2)/2)/2"
      ]
     },
     "execution_count": 14,
     "metadata": {},
     "output_type": "execute_result"
    }
   ],
   "source": [
    "re(root[0])"
   ]
  },
  {
   "cell_type": "code",
   "execution_count": 15,
   "id": "9e2ab8d4",
   "metadata": {},
   "outputs": [
    {
     "data": {
      "text/latex": [
       "$\\displaystyle \\frac{D}{2} + \\frac{\\sqrt[4]{4 \\alpha^{2} q^{4} + \\left(D^{2} - 2 q^{2}\\right)^{2}} \\cos{\\left(\\frac{\\operatorname{atan}_{2}{\\left(- 2 \\alpha q^{2},D^{2} - 2 q^{2} \\right)}}{2} \\right)}}{2}$"
      ],
      "text/plain": [
       "D/2 + (4*alpha**2*q**4 + (D**2 - 2*q**2)**2)**(1/4)*cos(atan2(-2*alpha*q**2, D**2 - 2*q**2)/2)/2"
      ]
     },
     "execution_count": 15,
     "metadata": {},
     "output_type": "execute_result"
    }
   ],
   "source": [
    "re(root[1])"
   ]
  },
  {
   "cell_type": "code",
   "execution_count": 16,
   "id": "e3feb963",
   "metadata": {},
   "outputs": [
    {
     "data": {
      "text/latex": [
       "$\\displaystyle \\frac{D}{2} - \\frac{\\sqrt[4]{4 \\alpha^{2} q^{4} + \\left(D^{2} - 2 q^{2}\\right)^{2}} \\cos{\\left(\\frac{\\operatorname{atan}_{2}{\\left(2 \\alpha q^{2},D^{2} - 2 q^{2} \\right)}}{2} \\right)}}{2}$"
      ],
      "text/plain": [
       "D/2 - (4*alpha**2*q**4 + (D**2 - 2*q**2)**2)**(1/4)*cos(atan2(2*alpha*q**2, D**2 - 2*q**2)/2)/2"
      ]
     },
     "execution_count": 16,
     "metadata": {},
     "output_type": "execute_result"
    }
   ],
   "source": [
    "re(root[2])"
   ]
  },
  {
   "cell_type": "code",
   "execution_count": 17,
   "id": "a82a7335",
   "metadata": {},
   "outputs": [
    {
     "data": {
      "text/latex": [
       "$\\displaystyle \\frac{D}{2} + \\frac{\\sqrt[4]{4 \\alpha^{2} q^{4} + \\left(D^{2} - 2 q^{2}\\right)^{2}} \\cos{\\left(\\frac{\\operatorname{atan}_{2}{\\left(2 \\alpha q^{2},D^{2} - 2 q^{2} \\right)}}{2} \\right)}}{2}$"
      ],
      "text/plain": [
       "D/2 + (4*alpha**2*q**4 + (D**2 - 2*q**2)**2)**(1/4)*cos(atan2(2*alpha*q**2, D**2 - 2*q**2)/2)/2"
      ]
     },
     "execution_count": 17,
     "metadata": {},
     "output_type": "execute_result"
    }
   ],
   "source": [
    "re(root[3])"
   ]
  },
  {
   "cell_type": "code",
   "execution_count": 18,
   "id": "d553d667",
   "metadata": {},
   "outputs": [
    {
     "data": {
      "image/png": "[encoded data removed]",
      "text/plain": [
       "<Figure size 640x480 with 1 Axes>"
      ]
     },
     "metadata": {},
     "output_type": "display_data"
    }
   ],
   "source": [
    "import numpy as np\n",
    "import matplotlib.pyplot as plt\n",
    "\n",
    "def cal_lambda_re(D, alpha, q):\n",
    "    A = 2 * alpha * q**2\n",
    "    B = D**2 - 2 * q**2\n",
    "    \n",
    "    C = (A**2 + B**2) ** 0.25\n",
    "    x_p = np.cos(np.arctan2(A, B) * 0.5)\n",
    "    x_m= np.cos(np.arctan2(-A, B) * 0.5)\n",
    "\n",
    "    lambda1 = 0.5 * (D - C * x_m)\n",
    "    lambda2 = 0.5 * (D + C * x_m)\n",
    "    lambda3 = 0.5 * (D - C * x_p)\n",
    "    lambda4 = 0.5 * (D + C * x_p)\n",
    "    \n",
    "    return [lambda1, lambda2, lambda3, lambda4]\n",
    "\n",
    "q = np.linspace(0, 1000, 100000)\n",
    "for Dr in [0.1, 1, 3]:\n",
    "    D = Dr + q ** 2 / (16 * Dr)\n",
    "    # D = Dr\n",
    "    # D = 1\n",
    "    for alpha_2 in [1]:\n",
    "        alpha = np.sqrt(alpha_2)\n",
    "        y = cal_lambda_re(D, alpha, q)\n",
    "        plt.plot(q, y[0], label=r\"$\\alpha^2=%g, D_r=%g$\" % (alpha_2, Dr))\n",
    "        # plt.plot(q, y[1])\n",
    "        # plt.plot(q, y[2])\n",
    "        # plt.plot(q, y[3])\n",
    "plt.xscale(\"log\")\n",
    "plt.axhline(0, linestyle=\"dashed\")\n",
    "plt.xlabel(r\"$q$\")\n",
    "plt.ylabel(r\"$\\Re[ {\\lambda}]$\")\n",
    "plt.ylim(-1, 2)\n",
    "plt.axvline(2*np.pi, c=\"k\")\n",
    "plt.axvline(2*np.pi * 2, c=\"k\")\n",
    "\n",
    "plt.legend()\n",
    "plt.tight_layout()\n",
    "plt.show()\n",
    "plt.close()"
   ]
  },
  {
   "cell_type": "markdown",
   "id": "219d586c",
   "metadata": {},
   "source": [
    "Setting $\\eta_{AA}=\\eta_{BB}=\\eta$, $\\eta_{AB}=-\\eta_{BA}=\\alpha$, the determinant becomes:\n",
    "$$|M-\\lambda I|=\\left [\\lambda^2 - D\\lambda + \\frac{1+\\eta^2}{2}q^2\\right ]^2 + \\frac{\\alpha^2q^4}{4},$$\n",
    "where $D=\\frac{D_r}{v_0}+\\frac{v_0}{16D_r} q^2$.\n",
    "To make $|M-\\lambda I|=0$, $\\lambda$ should obey:\n",
    "$$\\lambda^2 - D\\lambda + \\frac{1+\\eta \\pm i \\alpha}{2} q^2 =0,$$\n",
    "which leads to\n",
    "$$\\lambda_{\\pm\\pm}=\\frac{D\\pm\\sqrt{D^2-2(1+\\eta\\pm i\\alpha)q^2}}{2}$$"
   ]
  },
  {
   "cell_type": "code",
   "execution_count": 19,
   "id": "4147b3fe",
   "metadata": {},
   "outputs": [
    {
     "data": {
      "image/png": "[encoded data removed]",
      "text/plain": [
       "<Figure size 640x480 with 1 Axes>"
      ]
     },
     "metadata": {},
     "output_type": "display_data"
    }
   ],
   "source": [
    "def cal_lambda(alpha, Dr, eta, q):\n",
    "    q2 = q ** 2\n",
    "    D = Dr + q2 / (16 * Dr)\n",
    "    D2 = D ** 2\n",
    "    Delta_p = D2 - 2 * (1 + eta + alpha * 1j) * q2\n",
    "    Delta_m = D2 - 2 * (1 + eta - alpha * 1j) * q2\n",
    "    sqrt_Delta_p = np.sqrt(Delta_p)\n",
    "    sqrt_Delta_m = np.sqrt(Delta_m)\n",
    "    root_pp = 0.5 * (D + sqrt_Delta_p)\n",
    "    root_pm = 0.5 * (D + sqrt_Delta_m)\n",
    "    root_mp = 0.5 * (D - sqrt_Delta_p)\n",
    "    root_mm = 0.5 * (D - sqrt_Delta_m)\n",
    "    return np.array([root_pp, root_pm, root_mp, root_mm])\n",
    "\n",
    "\n",
    "q = np.linspace(0, 1000, 1000000)\n",
    "Dr = 0.1\n",
    "eta = -2\n",
    "for alpha in [0.1, 1]:\n",
    "    roots = cal_lambda(alpha, Dr, eta, q)\n",
    "    D = Dr + q ** 2 / (16 * Dr)\n",
    "    # plt.plot(q, roots[0].real)\n",
    "    plt.plot(q, roots[2].real)\n",
    "\n",
    "# y = cal_lambda_re(D, alpha, q)\n",
    "# plt.plot(q, y[0])\n",
    "plt.axvline(2*np.pi, c=\"k\")\n",
    "\n",
    "# plt.ylim(-0.05, 0.05)\n",
    "plt.xscale(\"log\")\n",
    "plt.axhline(0, linestyle=\"dashed\", c=\"r\")\n",
    "plt.show()\n",
    "plt.close()"
   ]
  }
 ],
 "metadata": {
  "kernelspec": {
   "display_name": "Python 3.9.5 ('base')",
   "language": "python",
   "name": "python3"
  },
  "language_info": {
   "codemirror_mode": {
    "name": "ipython",
    "version": 3
   },
   "file_extension": ".py",
   "mimetype": "text/x-python",
   "name": "python",
   "nbconvert_exporter": "python",
   "pygments_lexer": "ipython3",
   "version": "3.10.11"
  },
  "vscode": {
   "interpreter": {
    "hash": "63daafc062792a48537378df8a25d270bc34ae2d21111419ee2943273cc64321"
   }
  }
 },
 "nbformat": 4,
 "nbformat_minor": 5
}
