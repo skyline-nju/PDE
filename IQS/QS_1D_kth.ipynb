{
 "cells": [
  {
   "cell_type": "markdown",
   "metadata": {},
   "source": [
    "## Unbiased underdamped case\n",
    "The probability densities to find a particle at position $x$ with velocity $v$ and direction $e_i=\\pm 1$ are denoted as $f_\\pm(x, v,t)$, which evolve according to\n",
    "$$\n",
    "\\begin{aligned}\n",
    "\\partial_t f_+ + \\partial_x (vf_+) - \\gamma \\partial_v [(v-u)f_+] &= \\gamma^2 D \\partial_v^2 f_+ - \\alpha (f_+ - f_-), \\\\\n",
    "\\partial_t f_- - \\partial_x (vf_-) - \\gamma \\partial_v [(v-u)f_-] &= \\gamma^2 D \\partial_v^2 f_- + \\alpha (f_+ - f_-).\n",
    "\\end{aligned}\n",
    "$$"
   ]
  },
  {
   "cell_type": "markdown",
   "metadata": {},
   "source": [
    "Introducing $w=v-u_0$, then $v-u=w + u_0 - u=w -\\delta u$. The probability densities $f^\\pm(x, w, t)$ evolve according to\n",
    "$$\n",
    "\\begin{aligned}\n",
    "\\partial_t f^+ + \\partial_x ((w+u_0)f^+) - \\gamma \\partial_w [(w-\\delta u)f^+] &= \\gamma^2 D \\partial_w^2 f^+ - \\alpha (f^+ - f^-), \\\\\n",
    "\\partial_t f^- - \\partial_x ((w+u_0)f^-) - \\gamma \\partial_w [(w-\\delta u)f^-] &= \\gamma^2 D \\partial_w^2 f^- + \\alpha (f^+ - f^-).\n",
    "\\end{aligned}\n",
    "$$\n",
    "The $k-th$ moment in $w$ is denoted as \n",
    "$$\n",
    "f^\\pm_k =\\int \\mathrm{d}w\\, w^k f^\\pm(x, w, t),\n",
    "$$\n",
    "which obeys\n",
    "$$\n",
    "\\begin{aligned}\n",
    "\\int \\mathrm{d}w\\, w^k \\partial_w f &= \\left.w^k f\\right|_{w_\\mathrm{min}}^{w_\\mathrm{max}} - \\int \\mathrm{d}w\\, kw^{k-1} f \\approx -k f_{k-1}, \\\\\n",
    "\\int \\mathrm{d}w\\, w^k \\partial_w (wf) &= \\left.w^{k+1} f\\right|_{w_\\mathrm{min}}^{w_\\mathrm{max}} - \\int \\mathrm{d}w\\, kw^k f \\approx -k f_{k}, \\\\\n",
    "\\int \\mathrm{d}w\\, w^k \\partial_w^2 f &= \\left.w^k \\partial_w f\\right|_{w_\\mathrm{min}}^{w_\\mathrm{max}} - \\int \\mathrm{d}w\\, kw^{k-1} \\partial f \\\\\n",
    "&= \\left.w^k \\partial_w f\\right|_{w_\\mathrm{min}}^{w_\\mathrm{max}} - \\left.kw^{k-1} f\\right|_{w_\\mathrm{min}}^{w_\\mathrm{max}} + \\int \\mathrm{d}w\\, k(k-1)w^{k-2}f \\\\\n",
    "&\\approx k(k-1) f_{k-2}.\n",
    "\\end{aligned}\n",
    "$$"
   ]
  },
  {
   "cell_type": "markdown",
   "metadata": {},
   "source": [
    "$$\n",
    "\\begin{aligned}\n",
    "\\partial_t f^+_k + \\partial_x (f_{k+1}^+ + u_0 f_k^+) + k\\gamma(f_k^+ - \\delta u f_{k-1}^+) &= k(k-1)\\gamma^2 D f_{k-2}^+ - \\alpha (f_k^+ - f_k^-), \\\\\n",
    "\\partial_t f^-_k - \\partial_x (f_{k+1}^- + u_0 f_k^-) + k\\gamma(f_k^- - \\delta u f_{k-1}^-) &= k(k-1)\\gamma^2 D f_{k-2}^- + \\alpha (f_k^+ - f_k^-).\n",
    "\\end{aligned}\n",
    "$$"
   ]
  },
  {
   "cell_type": "markdown",
   "metadata": {},
   "source": [
    "$$\n",
    "\\begin{aligned}\n",
    "\\partial_t \\rho^+ &= - \\partial_x (f_1^+ + u_0 \\rho^+) -\\alpha (\\rho^+ -\\rho^-), \\\\\n",
    "\\partial_t \\rho^- &= + \\partial_x (f_1^- + u_0 \\rho^-) +\\alpha (\\rho^+ -\\rho^-).\n",
    "\\end{aligned}\n",
    "$$\n",
    "\n",
    "$$\n",
    "\\begin{aligned}\n",
    "\\partial_t f_1^+ &= - \\partial_x (f_2^+ + u_0 f_1^+) -\\gamma (f_1^+ - \\delta u \\rho_0^+)-\\alpha (f_1^+ -f_1^-), \\\\\n",
    "\\partial_t f_1^- &= + \\partial_x (f_2^- + u_0 f_1^-) -\\gamma (f_1^- - \\delta u \\rho_0^-) +\\alpha (f_1^+ -f_1^-).\n",
    "\\end{aligned}\n",
    "$$\n",
    "\n",
    "$$\n",
    "\\begin{aligned}\n",
    "\\partial_t f_2^+ &= - \\partial_x (f_3^+ + u_0 f_2^+) -2\\gamma (f_2^+ - \\delta u f_1^+) + 2\\gamma^2 D \\rho^+ - \\alpha (f_2^+ -f_2^-), \\\\\n",
    "\\partial_t f_2^- &= + \\partial_x (f_3^- + u_0 f_2^-) -2\\gamma (f_2^- - \\delta u f_1^-) + 2\\gamma^2 D \\rho^- + \\alpha (f_2^+ -f_2^-).\n",
    "\\end{aligned}\n",
    "$$"
   ]
  },
  {
   "cell_type": "markdown",
   "metadata": {},
   "source": [
    "$$\n",
    "\\begin{aligned}\n",
    "f_k^+ &= \\frac{k\\gamma \\delta u f^+_{k-1} + k(k-1)\\gamma^2 D f^+_{k-2} + \\alpha f_k^-}{k\\gamma + \\alpha}, \\\\\n",
    "f_k^- &= \\frac{k\\gamma \\delta u f_{k-1}^- + k(k-1)\\gamma^2 D f_{k-2}^- + \\alpha f_k^+}{k\\gamma + \\alpha}\n",
    "\\end{aligned}\n",
    "$$"
   ]
  },
  {
   "cell_type": "markdown",
   "metadata": {},
   "source": [
    "For $\\alpha = 0$, we have $ f_2^\\pm =\\delta u f_1^\\pm + \\gamma D \\rho^\\pm $ and $ f_3^\\pm =\\delta u f_2^\\pm + 2\\gamma D f_1^\\pm$\n",
    "$$\n",
    "\\begin{aligned}\n",
    "\\partial_t \\rho^+ &= - \\partial_x (f_1^+ + u_0 \\rho^+), \\\\\n",
    "\\partial_t \\rho^- &= + \\partial_x (f_1^- + u_0 \\rho^-).\n",
    "\\end{aligned}\n",
    "$$"
   ]
  },
  {
   "cell_type": "markdown",
   "metadata": {},
   "source": [
    "$$\n",
    "\\begin{aligned}\n",
    "\\partial_t f_1^+ &= - \\partial_x (u f_1^+ + \\gamma D\\rho^+) -\\gamma (f_1^+ - \\delta u \\rho_0^+), \\\\\n",
    "\\partial_t f_1^- &= + \\partial_x (u f_1^- + \\gamma D\\rho^-) -\\gamma (f_1^- - \\delta u \\rho_0^-).\n",
    "\\end{aligned}\n",
    "$$\n",
    "\n",
    "$$\n",
    "\\begin{aligned}\n",
    "\\partial_t f_2^+ &= - \\partial_x (u f_2^+ + 2\\gamma D f^+_1) -2\\gamma (f_2^+ - \\delta u f_1^+) + 2\\gamma^2 D \\rho^+, \\\\\n",
    "\\partial_t f_2^- &= + \\partial_x (u f_2^- + 2\\gamma D f^-_1) -2\\gamma (f_2^- - \\delta u f_1^-) + 2\\gamma^2 D \\rho^-.\n",
    "\\end{aligned}\n",
    "$$"
   ]
  },
  {
   "cell_type": "markdown",
   "metadata": {},
   "source": [
    "$$\n",
    "M = \\begin{pmatrix}\n",
    "-iqu_0 & -iq & 0 & 0 \\\\\n",
    "-iq\\gamma D + \\gamma  \\rho_0^+ u' & -iq u_0 -\\gamma & \\gamma \\rho_0^+ u' & 0 \\\\\n",
    "0 & 0 & iq u_0 & iq \\\\\n",
    "\\gamma \\rho_0^- u' & 0 & iq \\gamma D + \\gamma \\rho_0^- u' & iq u_0 - \\gamma\n",
    "\\end{pmatrix}\n",
    "$$"
   ]
  },
  {
   "cell_type": "code",
   "execution_count": 43,
   "metadata": {},
   "outputs": [
    {
     "name": "stdout",
     "output_type": "stream",
     "text": [
      "[-1.00028368-1.74276848e-01j -1.00028368+1.74276848e-01j\n",
      "  0.09828827-1.19932135e-16j -0.09772091-7.57874996e-18j]\n"
     ]
    },
    {
     "data": {
      "image/png": "[encoded data removed]",
      "text/plain": [
       "<Figure size 400x600 with 1 Axes>"
      ]
     },
     "metadata": {},
     "output_type": "display_data"
    }
   ],
   "source": [
    "import numpy as np\n",
    "import matplotlib.pyplot as plt\n",
    "from scipy.linalg import schur\n",
    "\n",
    "class DMatrix2:\n",
    "    def __init__(self, gamma, u_prime, D, rho0_plus, u0=1, rho0=1):\n",
    "        self.gamma = gamma\n",
    "        self.u_prime = u_prime\n",
    "        self.D = D\n",
    "        self.u0 = u0\n",
    "        self.rho0_p = rho0_plus\n",
    "        self.rho0_m = rho0 - rho0_plus\n",
    "        self.rho0 = rho0\n",
    "\n",
    "    def get_M(self, q):\n",
    "        M = np.zeros((4, 4), complex)\n",
    "        M[0, 0] = -1j * q * self.u0\n",
    "        M[0, 1] = -1j * q\n",
    "        M[1, 0] = -1j * q * self.gamma * self.D + self.gamma * self.rho0_p * self.u_prime\n",
    "        M[1, 1] = -1j * q * self.u0 - self.gamma\n",
    "        M[1, 2] = self.gamma * self.rho0_p * self.u_prime\n",
    "        M[2, 2] = 1j * q * self.u0\n",
    "        M[2, 3] = 1j * q\n",
    "        M[3, 0] = self.gamma * self.rho0_m * self.u_prime\n",
    "        M[3, 2] = 1j * q * self.gamma * self.D + self.gamma * self.rho0_m * self.u_prime\n",
    "        M[3, 3] = 1j * q * self.u0 - self.gamma\n",
    "        return M\n",
    "    \n",
    "    def get_lambda(self, q):\n",
    "        T, Z = schur(self.get_M(q), output=\"complex\")\n",
    "        eigen_values = np.array([T[0, 0], T[1, 1], T[2, 2], T[3, 3]])\n",
    "        return eigen_values\n",
    "    \n",
    "    def get_lambda_q(self, q_arr):\n",
    "        lambda_arr = np.array([self.get_lambda(q) for q in q_arr])\n",
    "        return lambda_arr\n",
    "    \n",
    "    def get_max_lambda(self, q_arr):\n",
    "        lambda_arr = self.get_lambda_q(q_arr)\n",
    "        max_lambda = lambda_arr.max(axis=1)\n",
    "        return max_lambda.max()\n",
    "    \n",
    "    def get_lambda_max_lambda_q0(self, q_arr):\n",
    "        lambda_arr = self.get_lambda_q(q_arr)\n",
    "        max_lambda = lambda_arr.max(axis=1)\n",
    "        return max_lambda.max(), max_lambda[0].real\n",
    "\n",
    "    def get_lambda_max_Re_Im_q0(self, q_arr):\n",
    "        lambda_arr = self.get_lambda_q(q_arr).max(axis=1)\n",
    "        max_Re_idx = lambda_arr.real.argmax()\n",
    "        max_Im_idx = np.abs(lambda_arr.imag).argmax()\n",
    "        max_Re = lambda_arr[max_Re_idx].real\n",
    "        if lambda_arr[max_Im_idx].real > 0:\n",
    "            max_Im = np.abs(lambda_arr[max_Im_idx].imag)\n",
    "        else:\n",
    "            max_Im = np.abs(lambda_arr[max_Re_idx].imag)\n",
    "        return max_Re, max_Im, lambda_arr[0].real\n",
    "\n",
    "gamma = 1\n",
    "u_prime = -2\n",
    "D = 0.01\n",
    "rho0_plus = 0.5\n",
    "\n",
    "\n",
    "M = DMatrix2(gamma, u_prime, D, rho0_plus)\n",
    "print(M.get_lambda(0.1))\n",
    "\n",
    "q_arr = np.logspace(-4, np.log10(np.pi*2), 1000)\n",
    "sigma = M.get_lambda_q(q_arr).max(axis=1)\n",
    "fig, ax1 = plt.subplots(nrows=1, ncols=1, figsize=(4, 6), constrained_layout=True, sharex=True)\n",
    "mask = np.abs(sigma.imag) < 1e-8\n",
    "line, = ax1.plot(q_arr[mask], sigma.real[mask])\n",
    "mask = np.abs(sigma.imag) >= 1e-8\n",
    "line, = ax1.plot(q_arr[mask], sigma.real[mask], '--')\n",
    "ax1.set_xscale(\"log\")\n",
    "# ax1.set_yscale(\"log\")\n",
    "\n",
    "ax1.axhline(0)\n",
    "\n",
    "plt.show()\n",
    "plt.close()"
   ]
  }
 ],
 "metadata": {
  "kernelspec": {
   "display_name": "py310",
   "language": "python",
   "name": "python3"
  },
  "language_info": {
   "codemirror_mode": {
    "name": "ipython",
    "version": 3
   },
   "file_extension": ".py",
   "mimetype": "text/x-python",
   "name": "python",
   "nbconvert_exporter": "python",
   "pygments_lexer": "ipython3",
   "version": "3.10.11"
  }
 },
 "nbformat": 4,
 "nbformat_minor": 2
}
